{
 "cells": [
  {
   "cell_type": "code",
   "execution_count": 1,
   "id": "67d6e24f",
   "metadata": {},
   "outputs": [],
   "source": [
    "import requests\n",
    "import pickle\n",
    "from sklearn.preprocessing import StandardScaler\n",
    "import time\n"
   ]
  },
  {
   "cell_type": "code",
   "execution_count": 2,
   "id": "3325a970",
   "metadata": {},
   "outputs": [],
   "source": [
    "# URLs for Blynk sensor data\n",
    "BLYNK_URLS = {\n",
    "    \"V1\": \"https://blynk.cloud/external/api/get?token=a0R-kWpg-zJ6EX7r0U67MfkoKd72XTwK&V0\",  # X accelerometer\n",
    "    \"V2\": \"https://blynk.cloud/external/api/get?token=a0R-kWpg-zJ6EX7r0U67MfkoKd72XTwK&V1\",  # Y accelerometer\n",
    "    \"V3\": \"https://blynk.cloud/external/api/get?token=a0R-kWpg-zJ6EX7r0U67MfkoKd72XTwK&V2\",  # Z accelerometer\n",
    "    \"V4\": \"https://blynk.cloud/external/api/get?token=a0R-kWpg-zJ6EX7r0U67MfkoKd72XTwK&V3\"   # Vibration sensor\n",
    "}\n"
   ]
  },
  {
   "cell_type": "code",
   "execution_count": 3,
   "id": "a308210b",
   "metadata": {},
   "outputs": [],
   "source": [
    "# Function to get sensor data from Blynk\n",
    "def get_blynk_data(pin):\n",
    "    url = BLYNK_URLS.get(pin)\n",
    "    try:\n",
    "        # Make the HTTP GET request\n",
    "        response = requests.get(url)\n",
    "        response.raise_for_status()  # Check for HTTP errors\n",
    "        data = response.json()  # Parse JSON response\n",
    "        return float(data)    # Return the sensor value as a float\n",
    "    except (requests.RequestException, ValueError) as e:\n",
    "        print(f\"Error fetching data from Blynk for pin {pin}: {e}\")\n",
    "        return None"
   ]
  },
  {
   "cell_type": "code",
   "execution_count": 4,
   "id": "126c7550",
   "metadata": {},
   "outputs": [
    {
     "name": "stdout",
     "output_type": "stream",
     "text": [
      "Accel X: 1.0, Accel Y: 2.0, Accel Z: 1.0, Vibration: 1.0\n"
     ]
    }
   ],
   "source": [
    "# Fetch sensor data from Blynk virtual pins\n",
    "accel_x = get_blynk_data(\"V1\")  # X-axis accelerometer\n",
    "accel_y = get_blynk_data(\"V2\")  # Y-axis accelerometer\n",
    "accel_z = get_blynk_data(\"V3\")  # Z-axis accelerometer\n",
    "vibration = get_blynk_data(\"V4\")  # Vibration sensor\n",
    "\n",
    "# Check if all data was fetched successfully\n",
    "if None in [accel_x, accel_y, accel_z, vibration]:\n",
    "    print(\"Error fetching sensor data.\")\n",
    "else:\n",
    "    # Print the sensor values\n",
    "    print(f\"Accel X: {accel_x}, Accel Y: {accel_y}, Accel Z: {accel_z}, Vibration: {vibration}\")\n"
   ]
  },
  {
   "cell_type": "code",
   "execution_count": 5,
   "id": "ff4c5ce7",
   "metadata": {},
   "outputs": [],
   "source": [
    "# Function to load the pretrained model and scaler\n",
    "def load_model():\n",
    "    try:\n",
    "        with open('rf_model.pkl', 'rb') as file:\n",
    "            model = pickle.load(file)\n",
    "        with open('scaler.pkl', 'rb') as file:\n",
    "            scaler = pickle.load(file)\n",
    "        return model, scaler\n",
    "    except FileNotFoundError as e:\n",
    "        print(f\"Error loading model or scaler: {e}\")\n",
    "        return None, None"
   ]
  },
  {
   "cell_type": "code",
   "execution_count": 6,
   "id": "57484455",
   "metadata": {},
   "outputs": [],
   "source": [
    "# Function to predict landslide using sensor data\n",
    "def predict_landslide(sensor_data, model, scaler):\n",
    "    try:\n",
    "        # Scale the sensor data\n",
    "        sensor_data_scaled = scaler.transform([sensor_data])\n",
    "        \n",
    "        # Predict landslide (1) or no landslide (0)\n",
    "        prediction = model.predict(sensor_data_scaled)\n",
    "        \n",
    "        return \"Landslide Detected\" if prediction == 1 else \"No Landslide Detected\"\n",
    "    except Exception as e:\n",
    "        print(f\"Error during prediction: {e}\")\n",
    "        return \"Prediction Error\"\n"
   ]
  },
  {
   "cell_type": "code",
   "execution_count": 7,
   "id": "4d26fe21",
   "metadata": {},
   "outputs": [],
   "source": [
    "# Function to send notification to Blynk\n",
    "def send_blynk_notification(message):\n",
    "    url = f\"https://blynk.cloud/external/api/notify?token=a0R-kWpg-zJ6EX7r0U67MfkoKd72XTwK&msg={message}\"\n",
    "    try:\n",
    "        requests.get(url)\n",
    "    except requests.RequestException as e:\n",
    "        print(f\"Error sending notification: {e}\")"
   ]
  },
  {
   "cell_type": "code",
   "execution_count": 8,
   "id": "8895aee5",
   "metadata": {},
   "outputs": [],
   "source": [
    "# Load model and scaler\n",
    "model, scaler = load_model()\n",
    "if model is None or scaler is None:\n",
    "    print(\"Failed to load model or scaler. Exiting.\")\n",
    "    exit()"
   ]
  },
  {
   "cell_type": "code",
   "execution_count": 10,
   "id": "8f1caae3",
   "metadata": {},
   "outputs": [
    {
     "name": "stderr",
     "output_type": "stream",
     "text": [
      "D:\\anaconda\\Lib\\site-packages\\sklearn\\base.py:439: UserWarning: X does not have valid feature names, but StandardScaler was fitted with feature names\n",
      "  warnings.warn(\n"
     ]
    },
    {
     "name": "stdout",
     "output_type": "stream",
     "text": [
      "Prediction: Landslide Detected\n"
     ]
    }
   ],
   "source": [
    " # Create sensor data array for prediction\n",
    "sensor_data = [accel_x, accel_y, accel_z, vibration]\n",
    "\n",
    "# Predict if there's a landslide\n",
    "prediction = predict_landslide(sensor_data, model, scaler)\n",
    "print(\"Prediction:\", prediction)\n",
    "\n",
    "# Send a notification if a landslide is detected\n",
    "if prediction == \"Landslide Detected\":\n",
    "    send_blynk_notification(\"Warning! Landslide Detected!\")\n",
    "\n",
    "# Wait for 5 seconds before the next check\n",
    "time.sleep(5)"
   ]
  },
  {
   "cell_type": "code",
   "execution_count": null,
   "id": "2994bdaf",
   "metadata": {},
   "outputs": [],
   "source": []
  }
 ],
 "metadata": {
  "kernelspec": {
   "display_name": "Python 3 (ipykernel)",
   "language": "python",
   "name": "python3"
  },
  "language_info": {
   "codemirror_mode": {
    "name": "ipython",
    "version": 3
   },
   "file_extension": ".py",
   "mimetype": "text/x-python",
   "name": "python",
   "nbconvert_exporter": "python",
   "pygments_lexer": "ipython3",
   "version": "3.11.4"
  }
 },
 "nbformat": 4,
 "nbformat_minor": 5
}
