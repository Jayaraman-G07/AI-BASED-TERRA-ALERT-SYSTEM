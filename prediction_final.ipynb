{
 "cells": [
  {
   "cell_type": "code",
   "execution_count": 12,
   "id": "67d6e24f",
   "metadata": {},
   "outputs": [],
   "source": [
    "import requests\n",
    "import pickle\n",
    "from sklearn.preprocessing import StandardScaler\n",
    "import time\n",
    "import warnings\n",
    "warnings.filterwarnings(\"ignore\", category=UserWarning)\n"
   ]
  },
  {
   "cell_type": "code",
   "execution_count": 13,
   "id": "a308210b",
   "metadata": {},
   "outputs": [],
   "source": [
    "def get_accelerometer_data():\n",
    "    # Fetch accelerometer data from Blynk URL\n",
    "    url = \"https://blynk.cloud/external/api/get?token=a0R-kWpg-zJ6EX7r0U67MfkoKd72XTwK&V0\"\n",
    "    response = requests.get(url)\n",
    "    data = response.text  # Assuming data is in the format \"X: 4y: 5Z: 10\"\n",
    "\n",
    "    # Split the string and extract values\n",
    "    try:\n",
    "        values = data.replace(\" \", \"\").split(\"y:\")\n",
    "        accel_x = float(values[0].split(\":\")[1])  # Extract X value\n",
    "        accel_y = float(values[1].split(\"Z:\")[0])  # Extract Y value\n",
    "        accel_z = float(values[1].split(\"Z:\")[1])  # Extract Z value\n",
    "        return accel_x, accel_y, accel_z\n",
    "    except (IndexError, ValueError):\n",
    "        print(\"Error parsing accelerometer data.\")\n",
    "        return None, None, None\n"
   ]
  },
  {
   "cell_type": "code",
   "execution_count": 14,
   "id": "126c7550",
   "metadata": {},
   "outputs": [],
   "source": [
    "def get_vibration_data():\n",
    "    # Fetch vibration sensor data from Blynk URL\n",
    "    url = \"https://blynk.cloud/external/api/get?token=a0R-kWpg-zJ6EX7r0U67MfkoKd72XTwK&V1\"\n",
    "    response = requests.get(url)\n",
    "    \n",
    "    try:\n",
    "        vibration = int(response.text)  # Assuming the response is just the integer value\n",
    "        return float(vibration)  # Convert to float\n",
    "    except ValueError:\n",
    "        print(\"Error parsing vibration sensor data.\")\n",
    "        return None\n"
   ]
  },
  {
   "cell_type": "code",
   "execution_count": 15,
   "id": "f08ae77b",
   "metadata": {},
   "outputs": [
    {
     "name": "stdout",
     "output_type": "stream",
     "text": [
      "Accel X: 5.0, Accel Y: -2.0, Accel Z: 9.0, Vibration: 1.0\n"
     ]
    }
   ],
   "source": [
    "# Fetch accelerometer data (X, Y, Z)\n",
    "accel_x, accel_y, accel_z = get_accelerometer_data()\n",
    "\n",
    "# Fetch vibration sensor data\n",
    "vibration = get_vibration_data()\n",
    "\n",
    "# Check if all data was fetched successfully\n",
    "if None in [accel_x, accel_y, accel_z, vibration]:\n",
    "    print(\"Error fetching sensor data. Prediction cannot proceed.\")\n",
    "else:\n",
    "    # Prepare data for prediction (example: create a feature vector)\n",
    "    sensor_data = [accel_x, accel_y, accel_z, vibration]\n",
    "    #print(f\"Sensor Data: {sensor_data}\")\n",
    "        # Print the sensor values\n",
    "    print(f\"Accel X: {accel_x}, Accel Y: {accel_y}, Accel Z: {accel_z}, Vibration: {vibration}\")"
   ]
  },
  {
   "cell_type": "code",
   "execution_count": 16,
   "id": "ff4c5ce7",
   "metadata": {},
   "outputs": [],
   "source": [
    "# Function to load the pretrained model and scaler\n",
    "def load_model():\n",
    "    try:\n",
    "        with open('rf_model.pkl', 'rb') as file:\n",
    "            model = pickle.load(file)\n",
    "        with open('scaler.pkl', 'rb') as file:\n",
    "            scaler = pickle.load(file)\n",
    "        return model, scaler\n",
    "    except FileNotFoundError as e:\n",
    "        print(f\"Error loading model or scaler: {e}\")\n",
    "        return None, None"
   ]
  },
  {
   "cell_type": "code",
   "execution_count": 17,
   "id": "57484455",
   "metadata": {},
   "outputs": [],
   "source": [
    "# Function to predict landslide using sensor data\n",
    "def predict_landslide(sensor_data, model, scaler):\n",
    "    try:\n",
    "        # Scale the sensor data\n",
    "        sensor_data_scaled = scaler.transform([sensor_data])\n",
    "        \n",
    "        # Predict landslide (1) or no landslide (0)\n",
    "        prediction = model.predict(sensor_data_scaled)\n",
    "        \n",
    "        return \"Landslide Detected\" if prediction == 1 else \"No Landslide Detected\"\n",
    "    except Exception as e:\n",
    "        print(f\"Error during prediction: {e}\")\n",
    "        return \"Prediction Error\"\n"
   ]
  },
  {
   "cell_type": "code",
   "execution_count": 18,
   "id": "4d26fe21",
   "metadata": {},
   "outputs": [],
   "source": [
    "# Function to send notification to Blynk\n",
    "def send_blynk_notification(message):\n",
    "    url = f\"https://blynk.cloud/external/api/notify?token=a0R-kWpg-zJ6EX7r0U67MfkoKd72XTwK&msg={message}\"\n",
    "    try:\n",
    "        requests.get(url)\n",
    "    except requests.RequestException as e:\n",
    "        print(f\"Error sending notification: {e}\")"
   ]
  },
  {
   "cell_type": "code",
   "execution_count": 19,
   "id": "8895aee5",
   "metadata": {},
   "outputs": [],
   "source": [
    "# Load model and scaler\n",
    "model, scaler = load_model()\n",
    "if model is None or scaler is None:\n",
    "    print(\"Failed to load model or scaler. Exiting.\")\n",
    "    exit()"
   ]
  },
  {
   "cell_type": "code",
   "execution_count": 20,
   "id": "8f1caae3",
   "metadata": {},
   "outputs": [
    {
     "name": "stdout",
     "output_type": "stream",
     "text": [
      "Prediction: Landslide Detected\n"
     ]
    }
   ],
   "source": [
    " # Create sensor data array for prediction\n",
    "sensor_data = [accel_x, accel_y, accel_z, vibration]\n",
    "\n",
    "# Predict if there's a landslide\n",
    "prediction = predict_landslide(sensor_data, model, scaler)\n",
    "print(\"Prediction:\", prediction)\n",
    "\n",
    "# Send a notification if a landslide is detected\n",
    "if prediction == \"Landslide Detected\":\n",
    "    send_blynk_notification(\"Warning! Landslide Detected!\")\n",
    "\n",
    "# Wait for 5 seconds before the next check\n",
    "time.sleep(5)"
   ]
  },
  {
   "cell_type": "code",
   "execution_count": null,
   "id": "de677905",
   "metadata": {},
   "outputs": [],
   "source": []
  }
 ],
 "metadata": {
  "kernelspec": {
   "display_name": "Python 3 (ipykernel)",
   "language": "python",
   "name": "python3"
  },
  "language_info": {
   "codemirror_mode": {
    "name": "ipython",
    "version": 3
   },
   "file_extension": ".py",
   "mimetype": "text/x-python",
   "name": "python",
   "nbconvert_exporter": "python",
   "pygments_lexer": "ipython3",
   "version": "3.12.4"
  }
 },
 "nbformat": 4,
 "nbformat_minor": 5
}
